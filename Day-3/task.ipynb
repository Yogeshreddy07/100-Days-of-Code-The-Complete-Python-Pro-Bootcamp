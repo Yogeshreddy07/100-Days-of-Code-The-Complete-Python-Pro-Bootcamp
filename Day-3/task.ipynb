{
 "cells": [
  {
   "cell_type": "markdown",
   "metadata": {},
   "source": [
    "<h1>DAY 3 of 100 Days of code</h1>\n",
    "<ul>\n",
    "<li>If else conditions</li> \n",
    "<li>Modulo Oprator</li> \n",
    "</ul>"
   ]
  },
  {
   "cell_type": "code",
   "execution_count": null,
   "metadata": {},
   "outputs": [
    {
     "name": "stdout",
     "output_type": "stream",
     "text": [
      "Welcome to rollercoster\n",
      "You can ride the rollercoster\n",
      "Thank you for visiting us\n"
     ]
    }
   ],
   "source": [
    "#sample code with the exection of if else statement\n",
    "print(\"Welcome to rollercoster\")\n",
    "hight=int(input(\"Enter the hight:\"))\n",
    "if hight >=120:\n",
    "    print(\"You can ride the rollercoster\")\n",
    "else:\n",
    "    print(\"Sorry you are not tall enough\")\n",
    "print(\"Thank you for visiting us\")\n",
    "\n"
   ]
  },
  {
   "cell_type": "code",
   "execution_count": null,
   "metadata": {},
   "outputs": [],
   "source": [
    "#used Modulo operator to check the number is even or odd\n",
    "inp=int(input(\"Enter the number:\"))\n",
    "if inp%2==0:                #if the number is divisible by 2 then it is even number\n",
    "    print(\"Even number\")\n",
    "else:\n",
    "    print(\"Odd number\")"
   ]
  },
  {
   "cell_type": "code",
   "execution_count": null,
   "metadata": {},
   "outputs": [
    {
     "name": "stdout",
     "output_type": "stream",
     "text": [
      "Welcome to rollercoster\n",
      "Your height is 160\n",
      "Your age is 11\n",
      "You can ride the rollercoster\n",
      "Please pay 5$\n",
      "Thank you for visiting us\n"
     ]
    }
   ],
   "source": [
    "#sample code with the exection of nested if else statement\n",
    "print(\"Welcome to rollercoster\")\n",
    "height=int(input(\"Enter the height:\"))\n",
    "print(f\"Your height is {height}\")\n",
    "age=int(input(\"Enter the age:\"))\n",
    "print(f\"Your age is {age}\")\n",
    "if height >=120:\n",
    "    print(\"You can ride the rollercoster\")\n",
    "    if age<=12:\n",
    "        print(\"Please pay 5$\")\n",
    "    elif age<=18:                  #we can use more elif statements\n",
    "        print(\"Please pay 7$\")\n",
    "    else:\n",
    "        print(\"Please pay 12$\")\n",
    "else:\n",
    "    print(\"Sorry you are not tall enough\")\n",
    "print(\"Thank you for visiting us\")"
   ]
  },
  {
   "cell_type": "markdown",
   "metadata": {},
   "source": [
    "<h3>Problem</h3>\n",
    "BMI Calculator with Interpretations\n",
    "\n",
    "Add some if/elif/else statements to the BMI calculator so that it interprets the BMI values calculated.\n",
    "\n",
    "1.If the bmi is under 18.5 (not including), print out \"underweight\"\n",
    "\n",
    "2.If the bmi is between 18.5 (including) and 25 (not including), print out \"normal weight\"\n",
    "\n",
    "3.If the bmi is 25 (including) or over, print out \"overweight\""
   ]
  },
  {
   "cell_type": "code",
   "execution_count": 7,
   "metadata": {},
   "outputs": [
    {
     "name": "stdout",
     "output_type": "stream",
     "text": [
      "Your weight is 80.0\n",
      "Your height is 1.6\n",
      "bmi is: 31.249999999999993\n",
      "overweight\n"
     ]
    }
   ],
   "source": [
    "weight= float(input(\"Enter the weight:\"))\n",
    "height= float(input(\"Enter the height:\"))\n",
    "print(f\"Your weight is {weight}\\nYour height is {height}\")\n",
    "\n",
    "bmi = weight / (height ** 2) #bmi formula\n",
    "print(\"bmi is:\",bmi)\n",
    "\n",
    "if bmi <18.5:\n",
    "    print(\"underweight\")\n",
    "elif(bmi==18.5 or bmi<=24.9):\n",
    "    print(\"normal weight\")\n",
    "else:\n",
    "    print(\"overweight\")"
   ]
  },
  {
   "cell_type": "code",
   "execution_count": 8,
   "metadata": {},
   "outputs": [
    {
     "name": "stdout",
     "output_type": "stream",
     "text": [
      "Welcome to rollercoster\n",
      "Your height is 120\n",
      "Your age is 16\n",
      "You can ride the rollercoster\n",
      "Please pay 9$ for the ride and photo\n",
      "Thank you for visiting us\n"
     ]
    }
   ],
   "source": [
    "#sample code with the exection of nested if else statement\n",
    "print(\"Welcome to rollercoster\")\n",
    "height=int(input(\"Enter the height:\"))\n",
    "print(f\"Your height is {height}\")\n",
    "age=int(input(\"Enter the age:\"))\n",
    "print(f\"Your age is {age}\")\n",
    "photo=input(\"Do you want a photo(enter yes or no):\").lower()\n",
    "if height >=120:\n",
    "    print(\"You can ride the rollercoster\")\n",
    "    if age<=12:\n",
    "        if photo==\"yes\":\n",
    "            print(\"Please pay 7$ for the ride and photo\")\n",
    "        else:\n",
    "            print(\"Please pay 5$ for the ride\") \n",
    "    elif age<=18:                                               #we can use more elif statements\n",
    "        if photo==\"yes\":\n",
    "            print(\"Please pay 9$ for the ride and photo\")\n",
    "        else:\n",
    "            print(\"Please pay 7$ for the ride\")\n",
    "    else:\n",
    "        if photo==\"yes\":\n",
    "            print(\"Please pay 14$ for the ride and photo\")\n",
    "        else:\n",
    "            print(\"Please pay 12$ for the ride\")\n",
    "else:\n",
    "    print(\"Sorry you are not tall enough\")\n",
    "print(\"Thank you for visiting us\")"
   ]
  },
  {
   "cell_type": "code",
   "execution_count": null,
   "metadata": {},
   "outputs": [
    {
     "name": "stdout",
     "output_type": "stream",
     "text": [
      "Welcome to rollercoster\n",
      "Your height is 120\n",
      "Your age is 16\n",
      "You can ride the rollercoster\n",
      "Please pay 10$ for the ride and photo\n",
      "Thank you for visiting us\n"
     ]
    }
   ],
   "source": [
    "#sample code with the exection of nested if else statement\n",
    "print(\"Welcome to rollercoster\")\n",
    "height=int(input(\"Enter the height:\"))\n",
    "print(f\"Your height is {height}\")\n",
    "age=int(input(\"Enter the age:\"))\n",
    "print(f\"Your age is {age}\")\n",
    "photo=input(\"Do you want a photo(enter yes or no):\").lower()\n",
    "bill=0\n",
    "if height >=120:\n",
    "    print(\"You can ride the rollercoster\")\n",
    "    if age<=12:\n",
    "        bill=5        \n",
    "    elif age<=18:                                               #we can use more if statements also for the same condition\n",
    "        bill=7\n",
    "    else:\n",
    "        bill=12\n",
    "    if photo==\"yes\":\n",
    "        bill+=3 \n",
    "        print(f\"Please pay {bill}$ for the ride and photo\")\n",
    "    else:\n",
    "        print(f\"Please pay {bill}$ for the ride\")\n",
    "else:\n",
    "    print(\"Sorry you are not tall enough\")\n",
    "print(\"Thank you for visiting us\")"
   ]
  },
  {
   "cell_type": "code",
   "execution_count": null,
   "metadata": {},
   "outputs": [
    {
     "name": "stdout",
     "output_type": "stream",
     "text": [
      "welcome to python pizza Hut!\n",
      "Your pizza size is l\n",
      "Your choice for adding pepperoni is yes\n",
      "Your choice for adding extra cheese is no\n",
      "the pizza size is large\n",
      "The total bill is $28\n"
     ]
    }
   ],
   "source": [
    "print(\"welcome to python pizza Hut!\")\n",
    "size=input(\"Enter the size of pizza(small=s,medium=m,large=l):\").lower()\n",
    "print(f\"Your pizza size is {size}\")\n",
    "add_pepperoni=input(\"Do you want to add pepperoni(yes or no):\").lower()\n",
    "print(f\"Your choice for adding pepperoni is {add_pepperoni}\")    \n",
    "extra_cheese=input(\"Do you want to add extra cheese(yes or no):\").lower()\n",
    "print(f\"Your choice for adding extra cheese is {extra_cheese}\")\n",
    "bill=0\n",
    "if size== \"s\":\n",
    "    bill+=15\n",
    "    print(\"the pizza size is small\")\n",
    "elif size==\"m\":\n",
    "    bill+=20\n",
    "    print(\"the pizza size is medium\")\n",
    "elif size==\"l\":\n",
    "    bill+=25\n",
    "    print(\"the pizza size is large\")\n",
    "else:\n",
    "    print(\"enter the vaild size..\")\n",
    "\n",
    "if add_pepperoni==\"yes\" and size== \"s\":\n",
    "    bill+=2\n",
    "if add_pepperoni==\"yes\" and size== \"m\" or size ==\"l\":\n",
    "    bill+=3\n",
    "else:\n",
    "    pass\n",
    "    \n",
    "if extra_cheese==\"yes\":\n",
    "    bill+=1\n",
    "    print(f\"The total bill is ${bill}\")\n",
    "else:\n",
    "    print(f\"The total bill is ${bill}\")\n",
    "\n",
    "\n"
   ]
  },
  {
   "cell_type": "code",
   "execution_count": null,
   "metadata": {},
   "outputs": [],
   "source": [
    "#Logical Oprators\n"
   ]
  }
 ],
 "metadata": {
  "kernelspec": {
   "display_name": "Python 3",
   "language": "python",
   "name": "python3"
  },
  "language_info": {
   "codemirror_mode": {
    "name": "ipython",
    "version": 3
   },
   "file_extension": ".py",
   "mimetype": "text/x-python",
   "name": "python",
   "nbconvert_exporter": "python",
   "pygments_lexer": "ipython3",
   "version": "3.13.0"
  }
 },
 "nbformat": 4,
 "nbformat_minor": 2
}
