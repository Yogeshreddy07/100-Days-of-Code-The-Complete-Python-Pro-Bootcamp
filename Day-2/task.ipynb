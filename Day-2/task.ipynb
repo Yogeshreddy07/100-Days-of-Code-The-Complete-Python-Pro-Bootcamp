{
 "cells": [
  {
   "cell_type": "markdown",
   "metadata": {},
   "source": [
    "<h1>DAY 2 of 100 Days of code</h1>"
   ]
  },
  {
   "cell_type": "code",
   "execution_count": null,
   "metadata": {},
   "outputs": [],
   "source": [
    "print(len(\"hello\"))"
   ]
  },
  {
   "cell_type": "code",
   "execution_count": null,
   "metadata": {},
   "outputs": [],
   "source": [
    "#Subscripting strings\n",
    "print(\"Hello\"[0]) \n",
    "print(\"Hello\"[4])\n",
    "#Negative indexing\n",
    "print(\"Hello\"[-5])\n",
    "#string cancatination\n",
    "print(\"123\"+\"456\")\n",
    "#integer = whole number\n",
    "print(123+456)  #print(sum ofthe number present)\n",
    "#large integer\n",
    "print(123_124) #print as 123124 but ->123,124 for our understanding\n",
    "\n"
   ]
  },
  {
   "cell_type": "code",
   "execution_count": null,
   "metadata": {},
   "outputs": [],
   "source": [
    "#Float\n",
    "a=12.44\n",
    "print(f\"{a},the type is {type(a)}\")"
   ]
  },
  {
   "cell_type": "code",
   "execution_count": null,
   "metadata": {},
   "outputs": [],
   "source": [
    "#Boolen function-> true or false\n",
    "print(True)\n",
    "print(False)"
   ]
  },
  {
   "cell_type": "code",
   "execution_count": null,
   "metadata": {},
   "outputs": [],
   "source": [
    "#type()->used to find the data type.\n",
    "print(f\"the type of '123'is :{type(\"123\")}\")\n",
    "print(f\"the type of 123 is :{type(123)}\")\n",
    "print(f\"the type of 123.12 is :{type(123.12)}\")\n",
    "print(f\"the type of True is :{type(True)}\")\n"
   ]
  },
  {
   "cell_type": "code",
   "execution_count": 6,
   "metadata": {},
   "outputs": [
    {
     "name": "stdout",
     "output_type": "stream",
     "text": [
      "<class 'int'> <class 'str'>\n",
      "145\n"
     ]
    }
   ],
   "source": [
    "#type casting\n",
    "a=123\n",
    "b=str(a)\n",
    "print(type(a),type(b))\n",
    "\n",
    "print(int(\"123\")+int(\"22\"))"
   ]
  },
  {
   "cell_type": "code",
   "execution_count": 7,
   "metadata": {},
   "outputs": [
    {
     "name": "stdout",
     "output_type": "stream",
     "text": [
      "Number of letters in your name :6\n"
     ]
    }
   ],
   "source": [
    "print(\"Number of letters in your name :\" +str(len(input(\"Enter The name: \"))))"
   ]
  },
  {
   "cell_type": "code",
   "execution_count": null,
   "metadata": {},
   "outputs": [
    {
     "name": "stdout",
     "output_type": "stream",
     "text": [
      "6\n",
      "4\n",
      "5.0\n",
      "5\n",
      "5\n",
      "25\n"
     ]
    }
   ],
   "source": [
    "#Mathematical Operations \n",
    "print(5+1)  #Add\n",
    "print(5-1)  #Sub\n",
    "print(5/1)  #Div\n",
    "print(5//1) #DIV then remove the float values\n",
    "print(5*1)  #Mul\n",
    "print(5**2) # Square using mul **\n",
    "\n"
   ]
  },
  {
   "cell_type": "code",
   "execution_count": null,
   "metadata": {},
   "outputs": [
    {
     "name": "stdout",
     "output_type": "stream",
     "text": [
      "7.0\n"
     ]
    }
   ],
   "source": [
    "\"\"\"\n",
    "PEMADS:-\n",
    "()\n",
    "**\n",
    "* or /\n",
    "+ or -\"\"\"\n",
    "print(3*3+3/3-3) #Working->9+1-3"
   ]
  },
  {
   "cell_type": "code",
   "execution_count": null,
   "metadata": {},
   "outputs": [
    {
     "name": "stdout",
     "output_type": "stream",
     "text": [
      "52.87857756626347\n",
      "52\n",
      "53\n",
      "52.879\n"
     ]
    }
   ],
   "source": [
    "heigth =float(input(\"Enter Your height in(m):\"))\n",
    "weight =float(input(\"Enter Your weight in (kg):\"))\n",
    "bmi=weight/(heigth**2)\n",
    "#prints the exact value\n",
    "print(bmi)\n",
    "#converts into the int\n",
    "print(int(bmi))\n",
    "#round to nearest value\n",
    "print(round(bmi))\n",
    "#round to nearest value to the given decimal place..\n",
    "print(round(bmi,3)) "
   ]
  }
 ],
 "metadata": {
  "kernelspec": {
   "display_name": "Python 3",
   "language": "python",
   "name": "python3"
  },
  "language_info": {
   "codemirror_mode": {
    "name": "ipython",
    "version": 3
   },
   "file_extension": ".py",
   "mimetype": "text/x-python",
   "name": "python",
   "nbconvert_exporter": "python",
   "pygments_lexer": "ipython3",
   "version": "3.13.0"
  }
 },
 "nbformat": 4,
 "nbformat_minor": 2
}
