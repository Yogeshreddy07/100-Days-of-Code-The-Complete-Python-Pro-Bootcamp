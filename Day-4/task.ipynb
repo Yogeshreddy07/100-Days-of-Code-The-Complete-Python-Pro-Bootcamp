{
 "cells": [
  {
   "cell_type": "markdown",
   "metadata": {},
   "source": [
    "<h1>DAY 4 of 100 Days of code</h1>\n",
    "<ol>\n",
    "<li>Random Module</li> \n",
    "<li>List </li> \n",
    "<li>List Operation's</li> \n",
    "<li>Nested list</li>\n",
    "</ol>"
   ]
  },
  {
   "cell_type": "code",
   "execution_count": null,
   "metadata": {},
   "outputs": [
    {
     "name": "stdout",
     "output_type": "stream",
     "text": [
      "5\n"
     ]
    }
   ],
   "source": [
    "import random #radom module used to give a random number\n",
    "random_integer=random.randint(1,10)\n",
    "print(random_integer)"
   ]
  },
  {
   "cell_type": "code",
   "execution_count": null,
   "metadata": {},
   "outputs": [
    {
     "data": {
      "text/plain": [
       "0.0902544274613799"
      ]
     },
     "execution_count": 6,
     "metadata": {},
     "output_type": "execute_result"
    }
   ],
   "source": [
    "random.random() #used to choose the random number between 0<=x<1"
   ]
  },
  {
   "cell_type": "code",
   "execution_count": null,
   "metadata": {},
   "outputs": [
    {
     "data": {
      "text/plain": [
       "8.275391837909057"
      ]
     },
     "execution_count": 7,
     "metadata": {},
     "output_type": "execute_result"
    }
   ],
   "source": [
    "random.uniform(1,10) #print the random number in float values"
   ]
  },
  {
   "cell_type": "code",
   "execution_count": null,
   "metadata": {},
   "outputs": [
    {
     "name": "stdout",
     "output_type": "stream",
     "text": [
      "Tails\n"
     ]
    }
   ],
   "source": [
    "#for genarting the random Head or Tails\n",
    "ran=random.randint(0,1)\n",
    "if ran==0:\n",
    "    print(\"Head\")\n",
    "elif ran ==1:\n",
    "    print(\"Tails\")"
   ]
  },
  {
   "cell_type": "code",
   "execution_count": 17,
   "metadata": {},
   "outputs": [
    {
     "name": "stdout",
     "output_type": "stream",
     "text": [
      "Prints Full list ['yogesh', 'reddy', 'mani']\n",
      "The item at index 0 is printed yogesh\n",
      "['reddy', 'reddy', 'mani']\n",
      "['reddy', 'reddy', 'mani', 'yogesh']\n"
     ]
    }
   ],
   "source": [
    "#list\n",
    "l1=[\"yogesh\",\"reddy\",\"mani\"]\n",
    "print(\"Prints Full list\",l1)\n",
    "#indexing\n",
    "print(\"The item at index 0 is printed\",l1[0])\n",
    "#changeing using indexing\n",
    "l1[0]=\"reddy\" #list is mutable\n",
    "print(l1)\n",
    "l1.append(\"yogesh\")\n",
    "print(l1)"
   ]
  },
  {
   "cell_type": "code",
   "execution_count": 28,
   "metadata": {},
   "outputs": [
    {
     "name": "stdout",
     "output_type": "stream",
     "text": [
      "Shiva\n",
      "Sanjay\n"
     ]
    }
   ],
   "source": [
    "friends=[\"Yogesh\",\"reddy\",\"Shiva\",\"Sanjay\"]\n",
    "friends1=[\"reddy\"]\n",
    "r=random.randint(0,2)\n",
    "print(friends[r])\n",
    "\n",
    "#method 2\n",
    "print(random.choice(friends))"
   ]
  },
  {
   "cell_type": "code",
   "execution_count": 29,
   "metadata": {},
   "outputs": [
    {
     "data": {
      "text/plain": [
       "4"
      ]
     },
     "execution_count": 29,
     "metadata": {},
     "output_type": "execute_result"
    }
   ],
   "source": [
    "len(friends) #used to print the total no in iteams prasents"
   ]
  },
  {
   "cell_type": "code",
   "execution_count": null,
   "metadata": {},
   "outputs": [
    {
     "name": "stdout",
     "output_type": "stream",
     "text": [
      "[['Yogesh', 'reddy', 'Shiva', 'Sanjay'], ['reddy']]\n"
     ]
    }
   ],
   "source": [
    "dirt=[friends,friends1] #Nested List\n",
    "print(dirt)\n"
   ]
  }
 ],
 "metadata": {
  "kernelspec": {
   "display_name": "Python 3",
   "language": "python",
   "name": "python3"
  },
  "language_info": {
   "codemirror_mode": {
    "name": "ipython",
    "version": 3
   },
   "file_extension": ".py",
   "mimetype": "text/x-python",
   "name": "python",
   "nbconvert_exporter": "python",
   "pygments_lexer": "ipython3",
   "version": "3.13.0"
  }
 },
 "nbformat": 4,
 "nbformat_minor": 2
}
